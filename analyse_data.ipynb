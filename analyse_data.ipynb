{
 "cells": [
  {
   "cell_type": "code",
   "execution_count": 3,
   "metadata": {},
   "outputs": [],
   "source": [
    "import json\n",
    "import statistics as st\n",
    "from matplotlib import pyplot as plt\n",
    "from dateutil.parser import parse\n",
    "import re"
   ]
  },
  {
   "cell_type": "code",
   "execution_count": 4,
   "metadata": {},
   "outputs": [
    {
     "name": "stdout",
     "output_type": "stream",
     "text": [
      "661\n"
     ]
    }
   ],
   "source": [
    "with open(\"prefjoaopessoa_posts_data.json\", \"r\") as f:\n",
    "    print(len(json.load(f)))\n",
    "\n",
    "# with open(\"prefjoaopessoa_posts_data.json\", \"r\") as f:\n",
    "#     print(len(json.load(f)))"
   ]
  },
  {
   "cell_type": "code",
   "execution_count": null,
   "metadata": {},
   "outputs": [],
   "source": [
    "def initial_statistics(data: list[float]) -> dict:\n",
    "    \"\"\"Return a dict with the 'Mean', 'Median' and 'Standard Deviation'\"\"\"\n",
    "    assert len(data) > 1, \"The list must have more then one item\"\n",
    "    return {\"Max\": max(data), \"Min\": min(data), \"Range\": max(data)-min(data), \"Mean\": st.mean(data), \"Median\": st.median(data), \"Standard Deviation\": st.stdev(data)}\n",
    "\n",
    "def scatter(x: list[float], y: list[float], title: str=\"\", x_label: str=\"\", y_label: str=\"\") -> None:\n",
    "    \"\"\"Print a Scatter graphic\"\"\"\n",
    "    assert len(x) > 1, \"The 'x' list must have more then one item\"\n",
    "    assert len(y) > 1, \"The 'y' list must have more then one item\"\n",
    "    assert len(x) == len(y), \"Both lists must have the same lenght\"\n",
    "    \n",
    "    plt.scatter(x, y)\n",
    "    plt.title(title)\n",
    "    plt.xlabel(x_label)\n",
    "    plt.ylabel(y_label)\n",
    "    plt.show()"
   ]
  },
  {
   "attachments": {},
   "cell_type": "markdown",
   "metadata": {},
   "source": [
    "# TCEPB"
   ]
  },
  {
   "cell_type": "code",
   "execution_count": null,
   "metadata": {},
   "outputs": [],
   "source": [
    "with open(\"tcepb_posts_data.json\", \"r\") as f:\n",
    "    data_tce = json.load(f)\n",
    "len(data_tce)"
   ]
  },
  {
   "cell_type": "code",
   "execution_count": null,
   "metadata": {},
   "outputs": [],
   "source": [
    "import emoji\n",
    "print(data_tce[8][\"comments\"][2])\n",
    "print(emoji.demojize(data_tce[8][\"comments\"][2], language=\"pt\", delimiters=(\"\",\" \")))"
   ]
  },
  {
   "cell_type": "code",
   "execution_count": null,
   "metadata": {},
   "outputs": [],
   "source": [
    "links = [d[\"link\"] for d in data_tce]\n",
    "descriptions = [d[\"description\"] for d in data_tce]\n",
    "comments = [d[\"comments\"] for d in data_tce]\n",
    "likes = [d[\"likes\"] for d in data_tce]\n",
    "print(links[:5])\n",
    "print(descriptions[:5])\n",
    "print(comments[:5])\n",
    "print(likes[:5])"
   ]
  },
  {
   "cell_type": "code",
   "execution_count": null,
   "metadata": {},
   "outputs": [],
   "source": [
    "likes = [int(l.split(\" \")[0]) for l in likes]\n",
    "print(likes[:5])"
   ]
  },
  {
   "cell_type": "code",
   "execution_count": null,
   "metadata": {},
   "outputs": [],
   "source": [
    "comments_count = [len(c) for c in comments]\n",
    "print(comments_count[:5])"
   ]
  },
  {
   "attachments": {},
   "cell_type": "markdown",
   "metadata": {},
   "source": [
    "## LIKES"
   ]
  },
  {
   "cell_type": "code",
   "execution_count": null,
   "metadata": {},
   "outputs": [],
   "source": [
    "likes_stats = initial_statistics(likes)\n",
    "likes_stats"
   ]
  },
  {
   "attachments": {},
   "cell_type": "markdown",
   "metadata": {},
   "source": [
    "## COMMENTS"
   ]
  },
  {
   "cell_type": "code",
   "execution_count": null,
   "metadata": {},
   "outputs": [],
   "source": [
    "comments_stats = initial_statistics(comments_count)\n",
    "comments_stats"
   ]
  },
  {
   "attachments": {},
   "cell_type": "markdown",
   "metadata": {},
   "source": [
    "## LIKES X COMMENTS"
   ]
  },
  {
   "cell_type": "code",
   "execution_count": null,
   "metadata": {},
   "outputs": [],
   "source": [
    "scatter(x=likes, y=comments_count, title=\"Correlation - Likes x Comments Count\", x_label=\"Likes\", y_label=\"Comments Count\")"
   ]
  },
  {
   "attachments": {},
   "cell_type": "markdown",
   "metadata": {},
   "source": [
    "# PREF JAMPA"
   ]
  },
  {
   "cell_type": "code",
   "execution_count": null,
   "metadata": {},
   "outputs": [],
   "source": [
    "with open(\"prefjoaopessoa_posts_data.json\", \"r\") as f:\n",
    "    data_perfjampa = json.load(f)\n",
    "len(data_perfjampa)"
   ]
  },
  {
   "cell_type": "code",
   "execution_count": null,
   "metadata": {},
   "outputs": [],
   "source": [
    "links = [d[\"link\"] for d in data_perfjampa]\n",
    "descriptions = [d[\"description\"] for d in data_perfjampa]\n",
    "comments = [d[\"comments\"] for d in data_perfjampa]\n",
    "likes = [d[\"likes\"] for d in data_perfjampa]\n",
    "print(links[:5])\n",
    "print(descriptions[:5])\n",
    "print(comments[:5])\n",
    "print(likes[:5])"
   ]
  },
  {
   "cell_type": "code",
   "execution_count": null,
   "metadata": {},
   "outputs": [],
   "source": [
    "likes = [int(re.sub(\"(,)|(\\.)\", \"\", l.split(\" \")[0])) for l in likes]\n",
    "print(likes[:5])"
   ]
  },
  {
   "cell_type": "code",
   "execution_count": null,
   "metadata": {},
   "outputs": [],
   "source": [
    "comments_count = [len(c) for c in comments]\n",
    "print(comments_count[:5])"
   ]
  },
  {
   "attachments": {},
   "cell_type": "markdown",
   "metadata": {},
   "source": [
    "## LIKES"
   ]
  },
  {
   "cell_type": "code",
   "execution_count": null,
   "metadata": {},
   "outputs": [],
   "source": [
    "likes_stats = initial_statistics(likes)\n",
    "likes_stats"
   ]
  },
  {
   "attachments": {},
   "cell_type": "markdown",
   "metadata": {},
   "source": [
    "## COMMENTS"
   ]
  },
  {
   "cell_type": "code",
   "execution_count": null,
   "metadata": {},
   "outputs": [],
   "source": [
    "comments_stats = initial_statistics(comments_count)\n",
    "comments_stats"
   ]
  },
  {
   "attachments": {},
   "cell_type": "markdown",
   "metadata": {},
   "source": [
    "## LIKES X COMMENTS"
   ]
  },
  {
   "cell_type": "code",
   "execution_count": null,
   "metadata": {},
   "outputs": [],
   "source": [
    "scatter(x=likes, y=comments_count, title=\"Correlation - Likes x Comments Count\", x_label=\"Likes\", y_label=\"Comments Count\")"
   ]
  },
  {
   "attachments": {},
   "cell_type": "markdown",
   "metadata": {},
   "source": [
    "Removing the 3 most distant dots"
   ]
  },
  {
   "cell_type": "code",
   "execution_count": null,
   "metadata": {},
   "outputs": [],
   "source": [
    "indexes = [likes.index(h) for h in sorted(likes)[-3:]]\n",
    "indexes"
   ]
  },
  {
   "cell_type": "code",
   "execution_count": null,
   "metadata": {},
   "outputs": [],
   "source": [
    "print(len(likes))\n",
    "reduced_likes = [x for i, x in enumerate(likes) if i not in indexes]\n",
    "print(len(reduced_likes))"
   ]
  },
  {
   "cell_type": "code",
   "execution_count": null,
   "metadata": {},
   "outputs": [],
   "source": [
    "print(len(likes))\n",
    "reduced_comments_count = [x for i, x in enumerate(comments_count) if i not in indexes]\n",
    "print(len(reduced_comments_count))"
   ]
  },
  {
   "cell_type": "code",
   "execution_count": null,
   "metadata": {},
   "outputs": [],
   "source": [
    "scatter(x=reduced_likes, y=reduced_comments_count, title=\"Correlation - Likes x Comments Count\", x_label=\"Likes\", y_label=\"Comments Count\")"
   ]
  },
  {
   "cell_type": "code",
   "execution_count": null,
   "metadata": {},
   "outputs": [],
   "source": []
  }
 ],
 "metadata": {
  "kernelspec": {
   "display_name": "Python 3",
   "language": "python",
   "name": "python3"
  },
  "language_info": {
   "codemirror_mode": {
    "name": "ipython",
    "version": 3
   },
   "file_extension": ".py",
   "mimetype": "text/x-python",
   "name": "python",
   "nbconvert_exporter": "python",
   "pygments_lexer": "ipython3",
   "version": "3.9.0"
  },
  "orig_nbformat": 4
 },
 "nbformat": 4,
 "nbformat_minor": 2
}
