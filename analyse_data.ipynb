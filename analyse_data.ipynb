{
 "cells": [
  {
   "cell_type": "code",
   "execution_count": 1,
   "metadata": {},
   "outputs": [],
   "source": [
    "import json"
   ]
  },
  {
   "cell_type": "code",
   "execution_count": 2,
   "metadata": {},
   "outputs": [
    {
     "data": {
      "text/plain": [
       "3428"
      ]
     },
     "execution_count": 2,
     "metadata": {},
     "output_type": "execute_result"
    }
   ],
   "source": [
    "with open(\"tcepb_posts_data.json\", \"r\") as f:\n",
    "    data_tce = json.load(f)\n",
    "len(data_tce)"
   ]
  },
  {
   "cell_type": "code",
   "execution_count": 3,
   "metadata": {},
   "outputs": [
    {
     "name": "stdout",
     "output_type": "stream",
     "text": [
      "['https://www.instagram.com/p/CsrvIK_JUuX/', 'https://www.instagram.com/p/CsrtLpCJuMh/', 'https://www.instagram.com/p/CspiMeONz3m/', 'https://www.instagram.com/p/Cspho-St8YC/', 'https://www.instagram.com/p/CsmRI1eJ8A3/']\n",
      "['Busca Ativa Escolar no Selo UNICEF: municípios têm até 31 de maio para rematricular 40% dos estudantes em situação de evasão escolar\\n\\nO Tribunal de Contas do Estado da Paraíba (TCE-PB) alerta os 207 municípios paraibanos participantes do Selo Unicef a comprovarem que rematricularam pelo menos 40% dos estudantes que estavam em situação de evasão ou abandono escolar de acordo com o Censo Escolar/INEP de 2019. A recomendação é da Associação dos Tribunais de Contas do Brasil (Atricon) para que as Cortes de Contas orientem mais de dois mil municípios brasileiros participantes do Selo Unicef.\\n\\nO percentual é uma das diversas metas previstas pela metodologia do Selo e deve ser registrado até o dia 31 de maio, próxima quarta-feira, no site plataforma.buscaativaescolar.org.br. Até o momento, 901 municípios ainda precisam informar que alcançaram o percentual previsto.\\n\\nBUSCA ATIVA ESCOLAR – A meta de rematrículas no Selo Unicef diz respeito à Busca Ativa Escolar ( buscaativaescolar.org.br ) uma estratégia para apoiar gestões estaduais e municiais na identificação, registro, controle e acompanhamento de crianças e adolescentes que estão fora da escola ou em risco de evasão\\n\\nSAIBA MAIS NO PORTAL DO TCE-PB\\n\\n#julgamentos #prestacaodecontas #ascomtcepb #prefeituras #camaras #fiscalização #auditoria #novaleidelicitacoes\\n@atricon_oficial @irbcontasorg @unicefbrasil', 'DUODÉCIMOS RECEBIDOS E NÃO CONTABILIZADOS RENDEM O DÉBITO DE R$ 128 MIL A EX-GESTORA\\n\\nA não contabilização de recursos repassados pela Prefeitura Municipal a título de duodécimos acarretou a imposição do débito de R$ 128.248,00 à ex-presidente da Câmara de Vereadores de Belém do Brejo do Cruz, Maria Alves Pereira Cunha.\\n\\nA imputação a ela desses valores foi decidida, na manhã desta quinta-feira (25), pela 1ª Câmara do Tribunal de Contas da Paraíba ao julgar a Tomada de Contas Especial referente ao exercício de 2015, processo sob relatoria do conselheiro Fábio Nogueira. Ele comentou que o problema, inusitado e incomum, repetiu o que já havia sido apurado quando do exame das contas de 2016 (primeiramente julgadas) dessa mesma gestora então citada para devolver aos cofres públicos mais de R$ 300 mil. Ainda cabe recurso.\\n\\nMAIS INFORMAÇÕES NO PORTAL DO TCE-PB', 'TCE-PB APROVA CONTAS DE PREFEITURAS E IMPUTA DÉBITO DE R$ 5,6 MILHÕES A EX-GESTOR DA OS CRUZ VERMELHA NA PB\\n\\nDespesas não comprovadas, lesivas ao erário e elevados gastos de terceirizações com empresas privadas foram as principais irregularidades que levaram ao julgamento irregular, as despesas realizadas pela Organização Social Cruz Vermelha - contratada pela Secretaria de Saúde estadual, durante a gestão do Hospital de Emergência e Trauma Senador Humberto Lucena de João Pessoa, remanescente de 2012, conforme decisão do Tribunal de Contas do Estado, em sessão ordinária híbrida, nesta quarta-feira (24).\\n\\nAo ex-superintendente da Cruz Vermelha, Saulo de Avelar Esteves, foi imputada a quantia de R$ 5.644.418,59, referente aos prejuízos causados aos cofres públicos, valor que deverá ser ressarcido ao erário no prazo de 30 dias, mais multa de R$ 7.000,00, extensiva também ao então secretário de saúde, Waldson Dias de Sousa, em conformidade com a decisão do relator, conselheiro substituto Oscar Mamede Santiago Melo (proc. TC 02144/13).\\n\\nNo voto pela irregularidade, o relator seguiu o entendimento do Ministério Público de Contas, que foi aprovado, à unanimidade, pelos demais membros da Corte, apenas com a divergência do conselheiro Fernando Catão, em relação à imputação do débito. Entende ele que a responsabilização deveria ser solidária com o ex-secretário de saúde Waldson Sousa.\\n\\n#julgamentos #prestacaodecontas #ascomtcepb #prefeituras #camaras #fiscalização #auditoria #novaleidelicitacoes', 'TCE PRORROGA ATÉ 6 DE JUNHO PRAZO PARA PREFEITO PREENCHER QUESTIONÁRIO SOBRE LEI DAS LICITAÇÕES\\n\\nOs 223 prefeitos paraibanos têm prazo até 6 de junho para responder ao questionário atinente à implementação da nova Lei das Licitações. A iniciativa permitirá a identificação do “estágio de maturidade institucional dos municípios”, o diagnóstico de cada situação e, em razão disso, a atuação do Tribunal de Contas da Paraíba, nesse período de transição, em favor da aplicação e efetividade da Lei 14.133/21, que trata da matéria.\\n\\nAo estabelecer essa prorrogação, o presidente do TCE, conselheiro Nominando Diniz, esclarece que a medida decorre do atendimento ao ofício conjunto da Associação dos Membros dos Tribunais de Contas do Brasil (Atricon) e do Conselho Nacional dos Presidentes dos TCs (CNPC) interessados na mesma providência.\\n\\n#julgamentos #prestacaodecontas #ascomtcepb #prefeituras #camaras #fiscalização #auditoria #novaleidelicitacoes', 'AUDITOR DO TCE-PB PALESTRA NO II CONGRESSO AMBIENTAL DOS TRIBUNAIS DE CONTAS SOBRE CIDADES INTELIGENTES\\n\\nConsiderando que as cidades brasileiros são responsáveis por 70% das emissões globais e com foco na melhoria da gestão pública, a palestra de abertura da programação desta terça-feira (23), do II Congresso Ambiental dos Tribunais de Contas: Desenvolvimento e Sustentabilidade, teve como tema “Cidades inteligentes e sustentáveis”. O encontro é realizado pelo Tribunal de Contas de Mato Grosso (TCE-MT) na Fatec Senai-MT.\\n\\nAo abordar a temática, o auditor público do Tribunal de Contas da Paraíba (TCE-PB) André Agra Gomes de Lima ressaltou que a gestão das cidades passou a ser prioritária, sendo um desafio para os gestores. “Então, o controle externo precisa de parecer, a tecnologia, a inovação, as tecnologias digitais estão fazendo com que os tribunais de contas se aproximem mais da gestão, a tornem mais eficientes e, ao torná-las mais eficientes, a gestão pública se fortalece do ponto de vista dos resultados”.\\n\\nO palestrante destacou ainda que a sustentabilidade não é só ambiental, pressupõe prosperidade com mais justiça social, com geração de emprego e renda. “E os tribunais de contas precisam se engajar nesse conceito e nesse grande desafio nacional dos mais de 5 mil municípios brasileiros. A tradição clássica do tribunal de contas se pautar apenas na análise de contas públicas está sendo superada”.\\n\\nSAIBA MAIS NO PORTAL DO TCE-PB\\n\\n@andreagraagra @tcematogrosso']\n",
      "[[], [], ['Parabéns T.C E bota pra lascar'], [], ['👏👏👏👏', '👏👏👏', '👏👏👏👏']]\n",
      "['53 likes', '53 likes', '52 likes', '102 likes', '74 likes']\n"
     ]
    }
   ],
   "source": [
    "links = [d[\"link\"] for d in data_tce]\n",
    "descriptions = [d[\"description\"] for d in data_tce]\n",
    "comments = [d[\"comments\"] for d in data_tce]\n",
    "likes = [d[\"likes\"] for d in data_tce]\n",
    "print(links[:5])\n",
    "print(descriptions[:5])\n",
    "print(comments[:5])\n",
    "print(likes[:5])"
   ]
  },
  {
   "cell_type": "code",
   "execution_count": 4,
   "metadata": {},
   "outputs": [
    {
     "name": "stdout",
     "output_type": "stream",
     "text": [
      "[53, 53, 52, 102, 74]\n"
     ]
    }
   ],
   "source": [
    "likes = [int(l.split(\" \")[0]) for l in likes]\n",
    "print(likes[:5])"
   ]
  },
  {
   "cell_type": "code",
   "execution_count": 5,
   "metadata": {},
   "outputs": [
    {
     "name": "stdout",
     "output_type": "stream",
     "text": [
      "[0, 0, 1, 0, 3]\n"
     ]
    }
   ],
   "source": [
    "comments_count = [len(c) for c in comments]\n",
    "print(comments_count[:5])"
   ]
  }
 ],
 "metadata": {
  "kernelspec": {
   "display_name": "Python 3",
   "language": "python",
   "name": "python3"
  },
  "language_info": {
   "codemirror_mode": {
    "name": "ipython",
    "version": 3
   },
   "file_extension": ".py",
   "mimetype": "text/x-python",
   "name": "python",
   "nbconvert_exporter": "python",
   "pygments_lexer": "ipython3",
   "version": "3.9.0"
  },
  "orig_nbformat": 4
 },
 "nbformat": 4,
 "nbformat_minor": 2
}
